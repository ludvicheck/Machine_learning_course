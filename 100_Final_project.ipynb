{
  "nbformat": 4,
  "nbformat_minor": 0,
  "metadata": {
    "colab": {
      "name": "100 - Final project.ipynb",
      "provenance": [],
      "collapsed_sections": [],
      "include_colab_link": true
    },
    "kernelspec": {
      "display_name": "Python 3",
      "language": "python",
      "name": "python3"
    },
    "language_info": {
      "codemirror_mode": {
        "name": "ipython",
        "version": 3
      },
      "file_extension": ".py",
      "mimetype": "text/x-python",
      "name": "python",
      "nbconvert_exporter": "python",
      "pygments_lexer": "ipython3",
      "version": "3.7.6"
    }
  },
  "cells": [
    {
      "cell_type": "markdown",
      "metadata": {
        "id": "view-in-github",
        "colab_type": "text"
      },
      "source": [
        "<a href=\"https://colab.research.google.com/github/Strojove-uceni/100_final/blob/main/100_Final_project.ipynb\" target=\"_parent\"><img src=\"https://colab.research.google.com/assets/colab-badge.svg\" alt=\"Open In Colab\"/></a>"
      ]
    },
    {
      "cell_type": "markdown",
      "metadata": {
        "id": "a6ZZfC2Rl9f4"
      },
      "source": [
        "# The Goal\n"
      ]
    },
    {
      "cell_type": "markdown",
      "metadata": {
        "id": "mKy9U3s_rzSv"
      },
      "source": [
        "Describe here in a few sentences what is the goal of your code.\n",
        "\n",
        "If you need to use pictures or diagrams, they are welcome. "
      ]
    },
    {
      "cell_type": "markdown",
      "metadata": {
        "id": "kNAqrM59Sp0S"
      },
      "source": [
        "## Code"
      ]
    },
    {
      "cell_type": "markdown",
      "metadata": {
        "id": "v1XwYQA7ag9m"
      },
      "source": [
        "Split the code blocks as you need them."
      ]
    },
    {
      "cell_type": "markdown",
      "metadata": {
        "id": "DlPp5EXLirb6"
      },
      "source": [
        "### Dataset - describe + load + split\n",
        "\n",
        "**My dummy data:**\n",
        "\n",
        "Lorem ipsum dolor sit amet, consectetur adipiscing elit, sed do eiusmod tempor incididunt ut labore et dolore magna aliqua. Ut enim ad minim veniam, quis nostrud exercitation ullamco laboris nisi ut aliquip ex ea commodo consequat. Duis aute irure dolor in reprehenderit in voluptate velit esse cillum dolore eu fugiat nulla pariatur. Excepteur sint occaecat cupidatat non proident, sunt in culpa qui officia deserunt mollit anim id est laborum.\n",
        "\n",
        "<img src=\"https://staff.utia.cas.cz/novozada/ml1/dummy.png\">\n",
        "\n",
        "Lorem ipsum dolor sit amet, consectetur adipiscing elit, sed do eiusmod tempor incididunt ut labore et dolore magna aliqua. Ut enim ad minim veniam, quis nostrud exercitation ullamco laboris nisi ut aliquip ex ea commodo consequat. Duis aute irure dolor in reprehenderit in voluptate velit esse cillum dolore eu fugiat nulla pariatur. Excepteur sint occaecat cupidatat non proident, sunt in culpa qui officia deserunt mollit anim id est laborum.\n",
        "\n"
      ]
    },
    {
      "cell_type": "code",
      "metadata": {
        "id": "_sG6-apMCtlC"
      },
      "source": [
        "import numpy as np\n",
        "from sklearn import datasets\n",
        "from sklearn.model_selection import train_test_split\n",
        "\n",
        "# Prepare data \n",
        "X, y = datasets.make_classification(n_samples=1000, n_features=4, n_classes=2, random_state=123)\n",
        "\n",
        "# more preference of one class\n",
        "y[:int(3*len(y)/4)] = 1\n",
        "\n",
        "# Split data \n",
        "X_train, X_test, y_train, y_test = train_test_split(X, y, test_size=0.20, random_state=123)"
      ],
      "execution_count": 66,
      "outputs": []
    },
    {
      "cell_type": "markdown",
      "metadata": {
        "id": "owqzIA6Mi2wA"
      },
      "source": [
        "### Your metod in $\\text{class}$ or $\\text{def}$"
      ]
    },
    {
      "cell_type": "markdown",
      "metadata": {
        "id": "JTMv6Fk0zX-f"
      },
      "source": [
        "Here describe why you choose this classifier - if this classifier differs from what we had in our assignments, so explain its functionality.\n",
        "\n",
        "$$ \\hat{y_i} = \\text{rand}_{weighted}(X) \\;\\;\\;\\;\\;\\; \\text{where}\\;\\; weighted \\approx \\{P(y_1), P(y_1), ..., P(y_n)\\}$$"
      ]
    },
    {
      "cell_type": "code",
      "metadata": {
        "id": "0qI9C2PhjDJP"
      },
      "source": [
        "class MyDummyClassifier:  \n",
        "  def __init__(self):            \n",
        "    pass\n",
        "\n",
        "  def fit(self, X, y):    \n",
        "    n_samples, n_features = X.shape\n",
        "    self._classes = np.unique(y)    \n",
        "    self._priors = [X[c==y].shape[0] / float(n_samples) for c in self._classes]    \n",
        "\n",
        "  def predict(self, X):    \n",
        "    print(self._priors)    \n",
        "    return np.random.choice(self._classes, X.shape[0], p=self._priors)"
      ],
      "execution_count": 67,
      "outputs": []
    },
    {
      "cell_type": "markdown",
      "metadata": {
        "id": "xL-3MkCTjGbW"
      },
      "source": [
        "### Train your classifier(s) and predict the testing data"
      ]
    },
    {
      "cell_type": "code",
      "metadata": {
        "colab": {
          "base_uri": "https://localhost:8080/"
        },
        "id": "YxaVVzZCjTQ5",
        "outputId": "6ee7061c-862e-4a90-ba40-8dbb3df2dd6c"
      },
      "source": [
        "def accuracy(y_true, y_pred):\n",
        "  accuracy = np.sum(y_true == y_pred) / len(y_true)\n",
        "  return accuracy\n",
        "\n",
        "# Design a model\n",
        "clf = MyDummyClassifier()\n",
        "\n",
        "# 4. Train a model\n",
        "clf.fit(X_train, y_train)\n",
        "\n",
        "# 5. Make predictions\n",
        "predictions = clf.predict(X_test)\n",
        "\n",
        "# 6. Evaluate predictions\n",
        "print(\"Dummy classifier has accuracy\", accuracy(y_test, predictions))"
      ],
      "execution_count": 68,
      "outputs": [
        {
          "output_type": "stream",
          "name": "stdout",
          "text": [
            "[0.12625, 0.87375]\n",
            "Dummy classifier has accuracy 0.75\n"
          ]
        }
      ]
    },
    {
      "cell_type": "markdown",
      "metadata": {
        "id": "xFA8079oj8xY"
      },
      "source": [
        "## Discuss the results\n",
        "\n",
        "Lorem ipsum dolor sit amet, consectetur adipiscing elit, sed do eiusmod tempor incididunt ut labore et dolore magna aliqua. Ut enim ad minim veniam, quis nostrud exercitation ullamco laboris nisi ut aliquip ex ea commodo consequat. Duis aute irure dolor in reprehenderit in voluptate velit esse cillum dolore eu fugiat nulla pariatur. Excepteur sint occaecat cupidatat non proident, sunt in culpa qui officia deserunt mollit anim id est laborum.\n",
        "\n",
        "Lorem ipsum dolor sit amet, consectetur adipiscing elit, sed do eiusmod tempor incididunt ut labore et dolore magna aliqua. Ut enim ad minim veniam, quis nostrud exercitation ullamco laboris nisi ut aliquip ex ea commodo consequat. Duis aute irure dolor in reprehenderit in voluptate velit esse cillum dolore eu fugiat nulla pariatur. Excepteur sint occaecat cupidatat non proident, sunt in culpa qui officia deserunt mollit anim id est laborum."
      ]
    }
  ]
}