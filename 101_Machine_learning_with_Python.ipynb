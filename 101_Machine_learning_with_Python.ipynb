{
  "nbformat": 4,
  "nbformat_minor": 0,
  "metadata": {
    "colab": {
      "name": "101 - Machine learning with Python.ipynb",
      "provenance": [],
      "collapsed_sections": [
        "a6ZZfC2Rl9f4",
        "GGimqWi--Joj",
        "65KbU0oxmLnX",
        "kNAqrM59Sp0S",
        "s51hLtePmLzE",
        "nB5Za7q9rUIn",
        "RHFxsV4slGgm",
        "fupPhH7FlGgq",
        "tDOxvlpDlGgt",
        "ZKp5DOk5lGgv",
        "A-AXLL7nybTC",
        "2nF78aHgtDVi",
        "HZiWgUu2lGg9",
        "Cz9AKYehlGg-",
        "Lj3F_lOp8NG_",
        "22Apuzh68Qw0",
        "8DuaTN-x6wHn",
        "WH1ImfcsdsMm",
        "xm4Y9U10SyAs",
        "mTn2w5HfSnXA"
      ],
      "include_colab_link": true
    },
    "kernelspec": {
      "display_name": "Python 3",
      "language": "python",
      "name": "python3"
    },
    "language_info": {
      "codemirror_mode": {
        "name": "ipython",
        "version": 3
      },
      "file_extension": ".py",
      "mimetype": "text/x-python",
      "name": "python",
      "nbconvert_exporter": "python",
      "pygments_lexer": "ipython3",
      "version": "3.7.6"
    }
  },
  "cells": [
    {
      "cell_type": "markdown",
      "metadata": {
        "id": "view-in-github",
        "colab_type": "text"
      },
      "source": [
        "<a href=\"https://colab.research.google.com/github/Strojove-uceni/101/blob/main/101_Machine_learning_with_Python.ipynb\" target=\"_parent\"><img src=\"https://colab.research.google.com/assets/colab-badge.svg\" alt=\"Open In Colab\"/></a>"
      ]
    },
    {
      "cell_type": "markdown",
      "metadata": {
        "id": "H5RYrb2W8_Ke"
      },
      "source": [
        "![Logo 01](https://staff.utia.cas.cz/novozada/ml1/101.png)\n",
        "\n",
        "**Course website:** [http://zoi.utia.cas.cz/ROZ2](http://zoi.utia.cas.cz/ROZ2/studijni-materialy)\n"
      ]
    },
    {
      "cell_type": "markdown",
      "metadata": {
        "id": "a6ZZfC2Rl9f4"
      },
      "source": [
        "# Part 1: Labs orientation\n"
      ]
    },
    {
      "cell_type": "markdown",
      "metadata": {
        "id": "GGimqWi--Joj"
      },
      "source": [
        "## Schedule - Machine learning with Python\n",
        "- Linear regression\n",
        "- KNN\n",
        "- SVM\n",
        "- Naive Bayes\n",
        "- Desidion Tree\n",
        "- K-Means Clustering\n",
        "- Perceptron\n",
        "- Decision Tree\n",
        "- Random Forest\n",
        "- PCA\n",
        "\n",
        "**Attendence:** \n",
        "\n",
        "Absence maximum 25% (one lab lesson).\n",
        "<br /><br />\n",
        "Attendance consist of:\n",
        "1.   Being present during the Lab session - on ZOOM (turning on the camera is requested)\n",
        "2.   Ask questions or comments during the exercise (if you have one)\n",
        "3.   **At the end of the year save your Final Project on Github**\n",
        "\n",
        "\n"
      ]
    },
    {
      "cell_type": "markdown",
      "metadata": {
        "id": "65KbU0oxmLnX"
      },
      "source": [
        "# Part 2: Colab"
      ]
    },
    {
      "cell_type": "markdown",
      "metadata": {
        "id": "eNVr6pE2PpY_"
      },
      "source": [
        "<a href=\"https://colab.research.google.com/\"><img src=\"https://staff.utia.cas.cz/novozada/ml1/colab_logo.png\"\n",
        " align=\"right\"></a>There are several benefits of using Colab over using your own local machines:\n",
        "\n",
        "* You do not require to do an [environment setup](https://docs.conda.io/projects/conda/en/latest/index.html).\n",
        "* Browser-based [Jupyter Notebooks](https://jupyter.org/) with important [packages](https://pypi.org/) pre-installed\n",
        "* Document code with [Markdown](https://colab.research.google.com/notebooks/markdown_guide.ipynb)\n",
        "* Load Data from (and save to) [Local Drive and Google Drive](https://colab.research.google.com/notebooks/io.ipynb)\n",
        "* Importing [Notebooks from Github](https://colab.research.google.com/github/googlecolab/colabtools/blob/master/notebooks/colab-github-demo.ipynb#scrollTo=K-NVg7RjyeTk)\n",
        "* [Sharing](https://www.tutorialspoint.com/google_colab/google_colab_sharing_notebook.htm) with others\n",
        "* [Free GPU](https://www.tutorialspoint.com/google_colab/google_colab_using_free_gpu.htm)\n",
        "\n",
        "[How to use colab](https://colab.research.google.com/notebooks/basic_features_overview.ipynb)\n",
        "\n",
        "[Check one of the many youtube tutorials.](https://www.youtube.com/watch?v=RLYoEyIHL6A)\n",
        "\n",
        "[A Complete guide to Google Colab for Deep Learning](https://www.kdnuggets.com/2020/06/google-colab-deep-learning.html)\n",
        "\n",
        "[Advanced Google Colab Tips](https://amitness.com/2020/06/google-colaboratory-tips/)\n",
        "\n",
        "\n"
      ]
    },
    {
      "cell_type": "markdown",
      "metadata": {
        "id": "kNAqrM59Sp0S"
      },
      "source": [
        "# Part 3: GitHub"
      ]
    },
    {
      "cell_type": "markdown",
      "metadata": {
        "id": "v1XwYQA7ag9m"
      },
      "source": [
        "**What is Git?**\n",
        "\n",
        "Git is the most commonly used version control system. Git tracks the changes you make to files, so you have a record of what has been done, and you can revert to specific versions should you ever need to. Git also makes collaboration easier, allowing changes by multiple people to all be merged into one source. \n",
        "\n",
        "<img src=\"https://staff.utia.cas.cz/novozada/ml1/git.png\">\n",
        "\n",
        "**What is GitHub?**\n",
        "\n",
        "<a href=\"https://github.com/\"><img src=\"https://staff.utia.cas.cz/novozada/ml1/github_logo.png\"\n",
        " align=\"right\"></a>\n",
        "GitHub is a code hosting platform for version control and collaboration. It lets you and others work together on projects from anywhere.\n",
        "\n",
        "[What is GitHub?](https://www.youtube.com/watch?v=w3jLJU7DT5E)\n",
        "\n",
        "[Start using GitHub.](https://guides.github.com/activities/hello-world/)\n",
        "\n",
        "[Create a repo.](https://docs.github.com/en/get-started/quickstart/create-a-repo)\n",
        "\n"
      ]
    },
    {
      "cell_type": "markdown",
      "metadata": {
        "id": "s51hLtePmLzE"
      },
      "source": [
        "# Part 4: Python Crash Course"
      ]
    },
    {
      "cell_type": "markdown",
      "metadata": {
        "id": "nB5Za7q9rUIn"
      },
      "source": [
        "## Python\n",
        "*   high-level, object-oriented, general purpose programming language\n",
        "*   open source (free to use and distribute, including for commercial purposes)\n",
        "*   interpreted (no need to compile the code)\n",
        "*   simple-to-learn syntax and excellent readability\n",
        "*   large community\n",
        "*   numerous libraries for scientific computing"
      ]
    },
    {
      "cell_type": "markdown",
      "metadata": {
        "id": "LuknXk6W7sXL"
      },
      "source": [
        "**You should know**\n",
        "* [Python code structure, variables, functions, conditions, loops](https://coobas.gitlab.io/python-fjfi/en/posts/zakladni-syntaxe.html)\n",
        "* [Containers: tuple, list, set, dict](https://coobas.gitlab.io/python-fjfi/en/posts/kontejnery.html)\n",
        "* [Object oriented programming](https://coobas.gitlab.io/python-fjfi/en/posts/objektove-orientovane-programovani.html)\n",
        "* Packages: [Numpy](https://coobas.gitlab.io/python-fjfi/en/posts/zaklady-numpy.html), [Matplotlib](https://coobas.gitlab.io/python-fjfi/posts/matplotlib.html)\n",
        "\n",
        "**Learn Python**\n",
        "* [FJFI Python Tutorial](https://coobas.gitlab.io/python-fjfi/)\n",
        "* [Introduction to Python](https://pythonprogramming.net/introduction-learn-python-3-tutorials/)\n",
        "* [Intermediate Python Programming introduction](https://pythonprogramming.net/introduction-intermediate-python-tutorial/)\n",
        "* [Python cheat sheet](https://websitesetup.org/wp-content/uploads/2021/04/Python-cheat-sheet-April-2021.pdf)\n",
        "* [Sharpen your python skills on CodeWars](https://www.codewars.com)\n"
      ]
    },
    {
      "cell_type": "markdown",
      "metadata": {
        "id": "RHFxsV4slGgm"
      },
      "source": [
        "### Variable assignment and basic operations"
      ]
    },
    {
      "cell_type": "markdown",
      "metadata": {
        "id": "2nvGtSoMlGgm"
      },
      "source": [
        "assign number $ 4 $ to variable $ x $ and print the value of $ x $:"
      ]
    },
    {
      "cell_type": "code",
      "metadata": {
        "scrolled": true,
        "id": "9iOX5P4YlGgm",
        "colab": {
          "base_uri": "https://localhost:8080/"
        },
        "outputId": "cc6e48b3-754f-43fe-88f4-15252c2e1dc0"
      },
      "source": [
        "x = 4\n",
        "print(x) \n"
      ],
      "execution_count": 1,
      "outputs": [
        {
          "output_type": "stream",
          "name": "stdout",
          "text": [
            "4\n"
          ]
        }
      ]
    },
    {
      "cell_type": "markdown",
      "metadata": {
        "id": "KIsY7yPalGgn"
      },
      "source": [
        "print the type of variable $ x $ using the [`type`](https://docs.python.org/3/library/functions.html#type) function:"
      ]
    },
    {
      "cell_type": "code",
      "metadata": {
        "id": "icmuzpxZlGgo",
        "colab": {
          "base_uri": "https://localhost:8080/"
        },
        "outputId": "f9d0ac1e-7c89-4b61-c4c9-75e5a989c96b"
      },
      "source": [
        "type(x)"
      ],
      "execution_count": 2,
      "outputs": [
        {
          "output_type": "execute_result",
          "data": {
            "text/plain": [
              "int"
            ]
          },
          "metadata": {},
          "execution_count": 2
        }
      ]
    },
    {
      "cell_type": "markdown",
      "metadata": {
        "id": "YMcl0cgelGgo"
      },
      "source": [
        "single-line comments:"
      ]
    },
    {
      "cell_type": "code",
      "metadata": {
        "id": "D7AuSknXlGgo"
      },
      "source": [
        "# this is a single-line comment"
      ],
      "execution_count": 3,
      "outputs": []
    },
    {
      "cell_type": "markdown",
      "metadata": {
        "id": "Pf99m4lhlGgp"
      },
      "source": [
        "assign number $ 2 $ to variable $ a $, assign number $ 4 $ to variable $ b $, and print sum, difference, product, and quotient of both variables:"
      ]
    },
    {
      "cell_type": "code",
      "metadata": {
        "scrolled": true,
        "id": "WGTtsWDelGgp",
        "colab": {
          "base_uri": "https://localhost:8080/"
        },
        "outputId": "800425a4-998d-41f2-e28b-53817598dd27"
      },
      "source": [
        "a = 2\n",
        "b = 4 \n",
        "print(a + b, a - b, a * b, a / b)\n",
        "print(f\"How to format it:({a} x {b}) / 3 = {a*b/3}\")\n",
        "print(f\"How to format it:({a} x {b}) / 3 = {a*b/3:0.2f}\")"
      ],
      "execution_count": 4,
      "outputs": [
        {
          "output_type": "stream",
          "name": "stdout",
          "text": [
            "6 -2 8 0.5\n",
            "How to format it:(2 x 4) / 3 = 2.6666666666666665\n",
            "How to format it:(2 x 4) / 3 = 2.67\n"
          ]
        }
      ]
    },
    {
      "cell_type": "markdown",
      "metadata": {
        "id": "hUsYdBbPlGgp"
      },
      "source": [
        "assign number $ 2 $ to variable $ c $ and print square-root of $ c $ and $ c $ to the power of $ 2 $ using the `**` operator:"
      ]
    },
    {
      "cell_type": "code",
      "metadata": {
        "id": "jolYQGnVlGgq",
        "colab": {
          "base_uri": "https://localhost:8080/"
        },
        "outputId": "c88ec9a7-20c7-4d58-e586-aa8f996fcecb"
      },
      "source": [
        "c = 2 \n",
        "print(c**0.5, c**2) "
      ],
      "execution_count": 5,
      "outputs": [
        {
          "output_type": "stream",
          "name": "stdout",
          "text": [
            "1.4142135623730951 4\n"
          ]
        }
      ]
    },
    {
      "cell_type": "markdown",
      "metadata": {
        "id": "Tb4iMQDSlGgq"
      },
      "source": [
        "create a list $ l $ of $ 1 $, $ 2.0 $, $ 3 $, and $ c $ (lists can contain any type of variable) and print the content of $ l $:"
      ]
    },
    {
      "cell_type": "code",
      "metadata": {
        "scrolled": true,
        "id": "QUw57QjclGgq",
        "colab": {
          "base_uri": "https://localhost:8080/"
        },
        "outputId": "73a5974d-6f2f-4c35-e19d-9829c3105101"
      },
      "source": [
        "l = [1, 2.0, 3, \"c\"]\n",
        "print(l) "
      ],
      "execution_count": 6,
      "outputs": [
        {
          "output_type": "stream",
          "name": "stdout",
          "text": [
            "[1, 2.0, 3, 'c']\n"
          ]
        }
      ]
    },
    {
      "cell_type": "markdown",
      "metadata": {
        "id": "fupPhH7FlGgq"
      },
      "source": [
        "### Conditions"
      ]
    },
    {
      "cell_type": "markdown",
      "metadata": {
        "id": "Rx8TFRzGlGgr"
      },
      "source": [
        "check if $ x $ is equal to $ 4 $, check if $ x $ is not equal to $ 3 $ using the operators `==` and `!=`:"
      ]
    },
    {
      "cell_type": "code",
      "metadata": {
        "id": "l9etC4smlGgr",
        "colab": {
          "base_uri": "https://localhost:8080/"
        },
        "outputId": "e2b543db-c25c-43e1-c2b4-1ef57b3e5ba7"
      },
      "source": [
        "print(x == 4, x != 3)"
      ],
      "execution_count": 7,
      "outputs": [
        {
          "output_type": "stream",
          "name": "stdout",
          "text": [
            "True True\n"
          ]
        }
      ]
    },
    {
      "cell_type": "markdown",
      "metadata": {
        "id": "3xr3UaqnlGgr"
      },
      "source": [
        "check if $ x $ is greater than $ 1 $ and less than $ 3 $, check if $ x $ is equal to $ 3 $ or $ 4 $ using the operators `and` and `or`:"
      ]
    },
    {
      "cell_type": "code",
      "metadata": {
        "id": "Usfq8B3jlGgr",
        "colab": {
          "base_uri": "https://localhost:8080/"
        },
        "outputId": "6203db71-b3cd-4c1b-c183-77eed0681de4"
      },
      "source": [
        "print(x > 1 and x < 3, x == 3 or x == 4)"
      ],
      "execution_count": 8,
      "outputs": [
        {
          "output_type": "stream",
          "name": "stdout",
          "text": [
            "False True\n"
          ]
        }
      ]
    },
    {
      "cell_type": "markdown",
      "metadata": {
        "id": "xJX0Syb9lGgr"
      },
      "source": [
        "if the value of variable $ x $ is less than or equal to $ 3 $, print \"x <= 3\", if the value of variable $ x $ is greater than $ 3 $ and less than $ 5 $, print \"3 < x < 5\", else print \"x >= 5\" using the [`if`](https://docs.python.org/3/reference/compound_stmts.html#if), [`elif`](https://docs.python.org/3/reference/compound_stmts.html#elif), and [`else`](https://docs.python.org/3/reference/compound_stmts.html#else) statements (note that in Python the code blocks must be indented - both tabs and spaces are supported):"
      ]
    },
    {
      "cell_type": "code",
      "metadata": {
        "id": "-Td7TzevlGgs",
        "colab": {
          "base_uri": "https://localhost:8080/"
        },
        "outputId": "7b6dfb19-9b64-4094-b75d-6aa4d62743a6"
      },
      "source": [
        "if x <= 3:\n",
        "    print(\"x <= 3\") \n",
        "elif x > 3 and x < 5: \n",
        "    print(\"3 < x < 5\")\n",
        "else: \n",
        "    print(\"x >= 5\")"
      ],
      "execution_count": 9,
      "outputs": [
        {
          "output_type": "stream",
          "name": "stdout",
          "text": [
            "3 < x < 5\n"
          ]
        }
      ]
    },
    {
      "cell_type": "markdown",
      "metadata": {
        "id": "XJcm9sa4lGgs"
      },
      "source": [
        "use the `in` operator to check if the list $ l $ contains character $ c $:"
      ]
    },
    {
      "cell_type": "code",
      "metadata": {
        "id": "mMxNl6eWlGgs",
        "colab": {
          "base_uri": "https://localhost:8080/"
        },
        "outputId": "eb5252e9-0e04-440c-f680-f45329c49d8d"
      },
      "source": [
        "print(l)\n",
        "print(\"c\" in l)"
      ],
      "execution_count": 10,
      "outputs": [
        {
          "output_type": "stream",
          "name": "stdout",
          "text": [
            "[1, 2.0, 3, 'c']\n",
            "True\n"
          ]
        }
      ]
    },
    {
      "cell_type": "markdown",
      "metadata": {
        "id": "ZX4lrsT5lGgt"
      },
      "source": [
        "use the `in` and `not` operators to check if the number 4 is not in the list $ l $:"
      ]
    },
    {
      "cell_type": "code",
      "metadata": {
        "id": "MShUFMkPlGgt",
        "colab": {
          "base_uri": "https://localhost:8080/"
        },
        "outputId": "7a82ef49-8fb7-44b4-c3c3-fe437eb75551"
      },
      "source": [
        "print(4 not in l)"
      ],
      "execution_count": 11,
      "outputs": [
        {
          "output_type": "stream",
          "name": "stdout",
          "text": [
            "True\n"
          ]
        }
      ]
    },
    {
      "cell_type": "markdown",
      "metadata": {
        "id": "tDOxvlpDlGgt"
      },
      "source": [
        "### Loops"
      ]
    },
    {
      "cell_type": "markdown",
      "metadata": {
        "id": "qkQYBQeSlGgt"
      },
      "source": [
        "print the sequence of numbers from 0 to 2 using the [`range`](https://docs.python.org/3/library/stdtypes.html#range) function and [`for`](https://docs.python.org/3/reference/compound_stmts.html#the-for-statement) loop (note that the [`range`](https://docs.python.org/3/library/stdtypes.html#range) function is zero based):"
      ]
    },
    {
      "cell_type": "code",
      "metadata": {
        "scrolled": false,
        "id": "T2aF5LM9lGgu",
        "colab": {
          "base_uri": "https://localhost:8080/"
        },
        "outputId": "d52839e7-dc53-4ccd-d0f3-0d35df716648"
      },
      "source": [
        "for i in range(3):\n",
        "    print(i)"
      ],
      "execution_count": 12,
      "outputs": [
        {
          "output_type": "stream",
          "name": "stdout",
          "text": [
            "0\n",
            "1\n",
            "2\n"
          ]
        }
      ]
    },
    {
      "cell_type": "markdown",
      "metadata": {
        "id": "1dpKYGqVlGgu"
      },
      "source": [
        "print the sequence of numbers from $ 3 $ to $ 5 $:"
      ]
    },
    {
      "cell_type": "code",
      "metadata": {
        "id": "EmlbFlojlGgu",
        "colab": {
          "base_uri": "https://localhost:8080/"
        },
        "outputId": "0d1f9efe-cbde-4ce1-d298-188d5484e343"
      },
      "source": [
        "for i in range(3, 6):\n",
        "    print(i)"
      ],
      "execution_count": 13,
      "outputs": [
        {
          "output_type": "stream",
          "name": "stdout",
          "text": [
            "3\n",
            "4\n",
            "5\n"
          ]
        }
      ]
    },
    {
      "cell_type": "markdown",
      "metadata": {
        "id": "i99ob1VzlGgu"
      },
      "source": [
        "iterate over a sequence given by list:"
      ]
    },
    {
      "cell_type": "code",
      "metadata": {
        "id": "h9sQap4HlGgv",
        "colab": {
          "base_uri": "https://localhost:8080/"
        },
        "outputId": "71455756-70f1-4c9a-fc64-3fda8dd03ca7"
      },
      "source": [
        "for x in [1,5,4]:\n",
        "    print(x)"
      ],
      "execution_count": 14,
      "outputs": [
        {
          "output_type": "stream",
          "name": "stdout",
          "text": [
            "1\n",
            "5\n",
            "4\n"
          ]
        }
      ]
    },
    {
      "cell_type": "markdown",
      "metadata": {
        "id": "pMehv2nalGgv"
      },
      "source": [
        "[`while`](https://docs.python.org/3/reference/compound_stmts.html#while) loops repeat as long as a certain boolean condition is met (note that the [`else`](https://docs.python.org/3/reference/compound_stmts.html#else) clause can be used in loops):"
      ]
    },
    {
      "cell_type": "code",
      "metadata": {
        "id": "lD_0yQaplGgv",
        "colab": {
          "base_uri": "https://localhost:8080/"
        },
        "outputId": "7c1639b5-ce9d-41ea-8371-f909bc0bf1fa"
      },
      "source": [
        "k = 10\n",
        "while k > 5:\n",
        "    print(\"k =\", k)\n",
        "    k = k - 1 # or k -= 1\n",
        "else:\n",
        "    print(\"k <= 5\")"
      ],
      "execution_count": 15,
      "outputs": [
        {
          "output_type": "stream",
          "name": "stdout",
          "text": [
            "k = 10\n",
            "k = 9\n",
            "k = 8\n",
            "k = 7\n",
            "k = 6\n",
            "k <= 5\n"
          ]
        }
      ]
    },
    {
      "cell_type": "markdown",
      "metadata": {
        "id": "ZKp5DOk5lGgv"
      },
      "source": [
        "### Functions"
      ]
    },
    {
      "cell_type": "markdown",
      "metadata": {
        "id": "2y7pLx5VlGgv"
      },
      "source": [
        "define a function that takes two numbers and returns their product using the `def` keyword:"
      ]
    },
    {
      "cell_type": "code",
      "metadata": {
        "id": "-QHpTQXClGgw",
        "colab": {
          "base_uri": "https://localhost:8080/"
        },
        "outputId": "e5d9e410-6f9e-4b4f-dc31-89214ee15dd0"
      },
      "source": [
        "def multiply(x, y):\n",
        "    return x*y\n",
        "\n",
        "print(multiply(2, 415))"
      ],
      "execution_count": 16,
      "outputs": [
        {
          "output_type": "stream",
          "name": "stdout",
          "text": [
            "830\n"
          ]
        }
      ]
    },
    {
      "cell_type": "markdown",
      "metadata": {
        "id": "NoJOPq72lGgw"
      },
      "source": [
        "use the [`try`](https://docs.python.org/3/reference/compound_stmts.html#try) and [`except`](https://docs.python.org/3/reference/compound_stmts.html#except) statements to catch the error thrown by `multiply` function when multiplying two strings:"
      ]
    },
    {
      "cell_type": "code",
      "metadata": {
        "id": "M-wIOA4_lGgw",
        "colab": {
          "base_uri": "https://localhost:8080/"
        },
        "outputId": "fd5c41c3-5925-4051-fff8-6fb0f90ad57a"
      },
      "source": [
        "try:\n",
        "    print(multiply(\"a\", \"b\"))\n",
        "\n",
        "except Exception as e:\n",
        "    print(\"Caught an exception: \" + str(e))"
      ],
      "execution_count": 17,
      "outputs": [
        {
          "output_type": "stream",
          "name": "stdout",
          "text": [
            "Caught an exception: can't multiply sequence by non-int of type 'str'\n"
          ]
        }
      ]
    },
    {
      "cell_type": "markdown",
      "metadata": {
        "id": "xww3LNpNlGgx"
      },
      "source": [
        "redefine the `multiply` function using the `lambda` keyword:"
      ]
    },
    {
      "cell_type": "code",
      "metadata": {
        "id": "O9kF0uMblGgx",
        "colab": {
          "base_uri": "https://localhost:8080/"
        },
        "outputId": "345f662f-b09d-4ddc-aefb-4132758e469e"
      },
      "source": [
        "multiply = lambda x, y: x**y\n",
        "\n",
        "multiply(2, 3)"
      ],
      "execution_count": 18,
      "outputs": [
        {
          "output_type": "execute_result",
          "data": {
            "text/plain": [
              "8"
            ]
          },
          "metadata": {},
          "execution_count": 18
        }
      ]
    },
    {
      "cell_type": "markdown",
      "metadata": {
        "id": "A-AXLL7nybTC"
      },
      "source": [
        "## Python packages"
      ]
    },
    {
      "cell_type": "markdown",
      "metadata": {
        "id": "2nF78aHgtDVi"
      },
      "source": [
        "### Numpy"
      ]
    },
    {
      "cell_type": "markdown",
      "metadata": {
        "id": "Y5QZm6vklGgx"
      },
      "source": [
        "<img src=\"https://staff.utia.cas.cz/novozada/ml1/numpy.png\"> <br />\n",
        "\n",
        "import the [`numpy`](https://numpy.org/) module and bind the import to the local variable `np` (to avoid name collisions and shorten module name):"
      ]
    },
    {
      "cell_type": "code",
      "metadata": {
        "id": "rU8rA6ualGgx"
      },
      "source": [
        "import numpy as np"
      ],
      "execution_count": 19,
      "outputs": []
    },
    {
      "cell_type": "markdown",
      "metadata": {
        "id": "770FxAWNlGgy"
      },
      "source": [
        "print $ \\sqrt{4} $, $ \\left|-1 \\right| $, $ \\exp{(1)} $, $ \\ln{(e)} $, $ \\sin{(\\pi)}$, and $ \\cos{(\\pi)} $ using the functions from [`numpy`](https://numpy.org/) module:"
      ]
    },
    {
      "cell_type": "code",
      "metadata": {
        "id": "jcV-Rt2-lGgy",
        "colab": {
          "base_uri": "https://localhost:8080/"
        },
        "outputId": "3b407f06-a5d4-4b48-f48e-f486829242dd"
      },
      "source": [
        "print(np.sqrt(4), np.abs(-1), np.exp(1), np.log(np.e), np.sin(np.pi), np.cos(np.pi))"
      ],
      "execution_count": 20,
      "outputs": [
        {
          "output_type": "stream",
          "name": "stdout",
          "text": [
            "2.0 1 2.718281828459045 1.0 1.2246467991473532e-16 -1.0\n"
          ]
        }
      ]
    },
    {
      "cell_type": "markdown",
      "metadata": {
        "id": "d5J68iBplGgy"
      },
      "source": [
        "create a vector $ v $ of numbers from $ 1 $ to $ 9 $ using the [`array`](https://numpy.org/doc/stable/reference/generated/numpy.array.html) function:"
      ]
    },
    {
      "cell_type": "code",
      "metadata": {
        "id": "qAy65GWXlGgy",
        "colab": {
          "base_uri": "https://localhost:8080/"
        },
        "outputId": "dba1cd3e-bee0-4c1c-8caf-84468d5f7adb"
      },
      "source": [
        "v = np.array([1, 2, 3, 4, 5, 6, 7, 8, 9])\n",
        "print(v)\n",
        "print([x**2 for x in v])"
      ],
      "execution_count": 21,
      "outputs": [
        {
          "output_type": "stream",
          "name": "stdout",
          "text": [
            "[1 2 3 4 5 6 7 8 9]\n",
            "[1, 4, 9, 16, 25, 36, 49, 64, 81]\n"
          ]
        }
      ]
    },
    {
      "cell_type": "markdown",
      "metadata": {
        "id": "KEUe9XETlGgy"
      },
      "source": [
        "create a $ 3 \\times 3 $ matrix $ \\mathbb{M} $ of numbers from $ 1 $ to $ 9 $ using the [`array`](https://numpy.org/doc/stable/reference/generated/numpy.array.html) function:"
      ]
    },
    {
      "cell_type": "code",
      "metadata": {
        "id": "yOGeAS1elGgz",
        "colab": {
          "base_uri": "https://localhost:8080/"
        },
        "outputId": "d0ff8db6-8835-4ad8-bf8e-cf6cf4b4cd12"
      },
      "source": [
        "M = np.array([[1, 2, 3], [4, 5, 6], [7, 8, 9]])\n",
        "print(M)"
      ],
      "execution_count": 22,
      "outputs": [
        {
          "output_type": "stream",
          "name": "stdout",
          "text": [
            "[[1 2 3]\n",
            " [4 5 6]\n",
            " [7 8 9]]\n"
          ]
        }
      ]
    },
    {
      "cell_type": "markdown",
      "metadata": {
        "id": "-R9vk80ElGgz"
      },
      "source": [
        "print the dimensions of the vector $ v $ and matrix $ \\mathbb{M} $ using the [`shape`](https://numpy.org/doc/stable/reference/generated/numpy.shape.html) function:"
      ]
    },
    {
      "cell_type": "code",
      "metadata": {
        "id": "hB1ayMuPlGgz",
        "colab": {
          "base_uri": "https://localhost:8080/"
        },
        "outputId": "e25bdd74-1ed9-47cd-d158-f4fa8777c46d"
      },
      "source": [
        "print(np.shape(v), np.shape(M))"
      ],
      "execution_count": 23,
      "outputs": [
        {
          "output_type": "stream",
          "name": "stdout",
          "text": [
            "(9,) (3, 3)\n"
          ]
        }
      ]
    },
    {
      "cell_type": "markdown",
      "metadata": {
        "id": "e7kXU1_ZlGgz"
      },
      "source": [
        "print number of elements of the vector $ v $ and matrix $ \\mathbb{M} $ using the [`size`](https://numpy.org/doc/stable/reference/generated/numpy.ndarray.size.html) function:"
      ]
    },
    {
      "cell_type": "code",
      "metadata": {
        "scrolled": true,
        "id": "cVOxZRIAlGgz",
        "colab": {
          "base_uri": "https://localhost:8080/"
        },
        "outputId": "9dc74976-eba4-4330-d1ee-bc02e22becee"
      },
      "source": [
        "print(np.size(v), np.size(M))"
      ],
      "execution_count": 24,
      "outputs": [
        {
          "output_type": "stream",
          "name": "stdout",
          "text": [
            "9 9\n"
          ]
        }
      ]
    },
    {
      "cell_type": "markdown",
      "metadata": {
        "id": "9Hh3lhUdlGgz"
      },
      "source": [
        "print the scalar product $ v \\cdot v $ using the [`dot`](https://numpy.org/doc/stable/reference/generated/numpy.dot.html) function (compare with the element-wise multiplication using the operator `*`):"
      ]
    },
    {
      "cell_type": "code",
      "metadata": {
        "id": "dr6ZGrZ5lGg0",
        "colab": {
          "base_uri": "https://localhost:8080/"
        },
        "outputId": "53106106-fc98-4290-edb4-225185473ed0"
      },
      "source": [
        "print(np.dot(v, v)) # alternatively v @ v\n",
        "print(v * v)"
      ],
      "execution_count": 25,
      "outputs": [
        {
          "output_type": "stream",
          "name": "stdout",
          "text": [
            "285\n",
            "[ 1  4  9 16 25 36 49 64 81]\n"
          ]
        }
      ]
    },
    {
      "cell_type": "markdown",
      "metadata": {
        "id": "YJZ28mO1lGg0"
      },
      "source": [
        "print the matrix product $ \\mathbb{M} \\cdot \\mathbb{M} $ using the [`dot`](https://numpy.org/doc/stable/reference/generated/numpy.dot.html) function (compare with the element-wise multiplication using the operator `*`):"
      ]
    },
    {
      "cell_type": "code",
      "metadata": {
        "scrolled": false,
        "id": "DAzcSabHlGg0",
        "colab": {
          "base_uri": "https://localhost:8080/"
        },
        "outputId": "b9acdffa-a5f7-4da3-867b-570f6a1b2eaf"
      },
      "source": [
        "print(np.dot(M, M))# alternatively M @ M\n",
        "print(M * M)"
      ],
      "execution_count": 26,
      "outputs": [
        {
          "output_type": "stream",
          "name": "stdout",
          "text": [
            "[[ 30  36  42]\n",
            " [ 66  81  96]\n",
            " [102 126 150]]\n",
            "[[ 1  4  9]\n",
            " [16 25 36]\n",
            " [49 64 81]]\n"
          ]
        }
      ]
    },
    {
      "cell_type": "markdown",
      "metadata": {
        "id": "QVazuARnlGg0"
      },
      "source": [
        "print the first, last, and the sixth element of vector $ v $:"
      ]
    },
    {
      "cell_type": "code",
      "metadata": {
        "scrolled": true,
        "id": "35nTCbvblGg0",
        "colab": {
          "base_uri": "https://localhost:8080/"
        },
        "outputId": "f7c2c2b7-1747-47e0-c771-8c6b84b4213b"
      },
      "source": [
        "print(v)\n",
        "print(v[0], v[-1], v[5], v[-2])"
      ],
      "execution_count": 27,
      "outputs": [
        {
          "output_type": "stream",
          "name": "stdout",
          "text": [
            "[1 2 3 4 5 6 7 8 9]\n",
            "1 9 6 8\n"
          ]
        }
      ]
    },
    {
      "cell_type": "markdown",
      "metadata": {
        "id": "PsnrdTX-lGg1"
      },
      "source": [
        "print the first five, last four, and each second element of vector $ v $ using the numpy array [indexing](https://numpy.org/doc/stable/reference/arrays.indexing.html):"
      ]
    },
    {
      "cell_type": "code",
      "metadata": {
        "id": "LpCYe4MklGg1",
        "colab": {
          "base_uri": "https://localhost:8080/"
        },
        "outputId": "04aa9932-c008-4d50-e106-6fea23421b92"
      },
      "source": [
        "print(v[:5], v[5:], v[::2])"
      ],
      "execution_count": 28,
      "outputs": [
        {
          "output_type": "stream",
          "name": "stdout",
          "text": [
            "[1 2 3 4 5] [6 7 8 9] [1 3 5 7 9]\n"
          ]
        }
      ]
    },
    {
      "cell_type": "markdown",
      "metadata": {
        "id": "z97gIXqTlGg1"
      },
      "source": [
        "print the $ \\mathbb{M}_{0, 0} $ element, the first row, and the second column of matrix $ \\mathbb{M} $:"
      ]
    },
    {
      "cell_type": "code",
      "metadata": {
        "scrolled": true,
        "id": "RPTWSAVtlGg1",
        "colab": {
          "base_uri": "https://localhost:8080/"
        },
        "outputId": "84ecf0db-2cd5-4df0-9cb1-260cbd317bd3"
      },
      "source": [
        "print(M[0, 0], M[0, :], M[:, 1])"
      ],
      "execution_count": 29,
      "outputs": [
        {
          "output_type": "stream",
          "name": "stdout",
          "text": [
            "1 [1 2 3] [2 5 8]\n"
          ]
        }
      ]
    },
    {
      "cell_type": "markdown",
      "metadata": {
        "id": "sKiLHrDxlGg1"
      },
      "source": [
        "create evenly spaced vector $ x $ of size $ 5 $ from $ -2 $ to $ 2 $ using the [`linspace`](https://numpy.org/doc/stable/reference/generated/numpy.linspace.html) function"
      ]
    },
    {
      "cell_type": "code",
      "metadata": {
        "id": "ptJ94CQglGg1",
        "colab": {
          "base_uri": "https://localhost:8080/"
        },
        "outputId": "cb4ed24e-09f2-48e4-fd4d-5ea8a9c39541"
      },
      "source": [
        "x = np.linspace(-2, 2, 5)\n",
        "print(x)"
      ],
      "execution_count": 30,
      "outputs": [
        {
          "output_type": "stream",
          "name": "stdout",
          "text": [
            "[-2. -1.  0.  1.  2.]\n"
          ]
        }
      ]
    },
    {
      "cell_type": "markdown",
      "metadata": {
        "id": "49qAiMT5lGg2"
      },
      "source": [
        "create evenly spaced vector $ x $ of size $ 5 $ from $ -2 $ to $ 2 $ using the [`linspace`](https://numpy.org/doc/stable/reference/generated/numpy.linspace.html) function and print the step size:"
      ]
    },
    {
      "cell_type": "code",
      "metadata": {
        "id": "u13SEYaulGg2",
        "colab": {
          "base_uri": "https://localhost:8080/"
        },
        "outputId": "66a3ad0c-ddfd-441a-989f-1ad56ccaf3ec"
      },
      "source": [
        "x, h = np.linspace(-2, 2, 50, retstep=True)\n",
        "print(h)"
      ],
      "execution_count": 31,
      "outputs": [
        {
          "output_type": "stream",
          "name": "stdout",
          "text": [
            "0.08163265306122448\n"
          ]
        }
      ]
    },
    {
      "cell_type": "markdown",
      "metadata": {
        "id": "9evRuF6llGg2"
      },
      "source": [
        "create evenly spaced vector $ x $ from $ -2 $ to $ 2 $ with a step of size $ 1 $ using the [`arange`](https://numpy.org/doc/stable/reference/generated/numpy.arange.html) function: "
      ]
    },
    {
      "cell_type": "code",
      "metadata": {
        "id": "kTq6DovIlGg2",
        "colab": {
          "base_uri": "https://localhost:8080/"
        },
        "outputId": "b8e9676d-1b35-4a85-d130-5db972c778d7"
      },
      "source": [
        "x = np.arange(-2, 3, 1.0)\n",
        "print(x)"
      ],
      "execution_count": 32,
      "outputs": [
        {
          "output_type": "stream",
          "name": "stdout",
          "text": [
            "[-2. -1.  0.  1.  2.]\n"
          ]
        }
      ]
    },
    {
      "cell_type": "markdown",
      "metadata": {
        "id": "Sat4qJJNlGg2"
      },
      "source": [
        "create a matrix from the vector $ x $ using the [`meshgrid`](https://numpy.org/doc/stable/reference/generated/numpy.meshgrid.html) function:"
      ]
    },
    {
      "cell_type": "code",
      "metadata": {
        "id": "xCREOGfhlGg3",
        "colab": {
          "base_uri": "https://localhost:8080/"
        },
        "outputId": "61c9f70b-879f-4208-8422-5ca1246c6b2d"
      },
      "source": [
        "xx, yy = np.meshgrid(x, x)\n",
        "print(xx)\n",
        "print(yy)"
      ],
      "execution_count": 33,
      "outputs": [
        {
          "output_type": "stream",
          "name": "stdout",
          "text": [
            "[[-2. -1.  0.  1.  2.]\n",
            " [-2. -1.  0.  1.  2.]\n",
            " [-2. -1.  0.  1.  2.]\n",
            " [-2. -1.  0.  1.  2.]\n",
            " [-2. -1.  0.  1.  2.]]\n",
            "[[-2. -2. -2. -2. -2.]\n",
            " [-1. -1. -1. -1. -1.]\n",
            " [ 0.  0.  0.  0.  0.]\n",
            " [ 1.  1.  1.  1.  1.]\n",
            " [ 2.  2.  2.  2.  2.]]\n"
          ]
        }
      ]
    },
    {
      "cell_type": "markdown",
      "metadata": {
        "id": "dycP0vpolGg3"
      },
      "source": [
        "create a vector of zeros of size $ 3 $ using the [`zeros`](https://numpy.org/doc/stable/reference/generated/numpy.zeros.html) function:"
      ]
    },
    {
      "cell_type": "code",
      "metadata": {
        "scrolled": true,
        "id": "XfSiNRsJlGg3",
        "colab": {
          "base_uri": "https://localhost:8080/"
        },
        "outputId": "26bf54ba-2d14-472e-d0d8-39c0c6f82e92"
      },
      "source": [
        "z = np.zeros(10)\n",
        "print(z)"
      ],
      "execution_count": 34,
      "outputs": [
        {
          "output_type": "stream",
          "name": "stdout",
          "text": [
            "[0. 0. 0. 0. 0. 0. 0. 0. 0. 0.]\n"
          ]
        }
      ]
    },
    {
      "cell_type": "markdown",
      "metadata": {
        "id": "J_4lfmunlGg3"
      },
      "source": [
        "create a $ 3 \\times 3$ matrix of zeros using the [`zeros`](https://numpy.org/doc/stable/reference/generated/numpy.zeros.html) function:"
      ]
    },
    {
      "cell_type": "code",
      "metadata": {
        "scrolled": true,
        "id": "vdWDsdrqlGg3",
        "colab": {
          "base_uri": "https://localhost:8080/"
        },
        "outputId": "91954999-13a3-4902-f68c-6c6ba356afdd"
      },
      "source": [
        "Z = np.zeros((3, 3))\n",
        "print(Z)"
      ],
      "execution_count": 35,
      "outputs": [
        {
          "output_type": "stream",
          "name": "stdout",
          "text": [
            "[[0. 0. 0.]\n",
            " [0. 0. 0.]\n",
            " [0. 0. 0.]]\n"
          ]
        }
      ]
    },
    {
      "cell_type": "markdown",
      "metadata": {
        "id": "291Kb8Z0lGg3"
      },
      "source": [
        "create a $ 3 \\times 3 $ matrix with ones on the diagonal and zeros elsewhere using the [`eye`](https://numpy.org/doc/stable/reference/generated/numpy.eye.html) function:"
      ]
    },
    {
      "cell_type": "code",
      "metadata": {
        "scrolled": true,
        "id": "JRGNX6OzlGg4",
        "colab": {
          "base_uri": "https://localhost:8080/"
        },
        "outputId": "b961d87c-ed32-43dc-a0b1-e031ea11f08d"
      },
      "source": [
        "D = np.eye(3)\n",
        "print(D)"
      ],
      "execution_count": 36,
      "outputs": [
        {
          "output_type": "stream",
          "name": "stdout",
          "text": [
            "[[1. 0. 0.]\n",
            " [0. 1. 0.]\n",
            " [0. 0. 1.]]\n"
          ]
        }
      ]
    },
    {
      "cell_type": "markdown",
      "metadata": {
        "id": "JIyAAn3IlGg4"
      },
      "source": [
        "create a $ 3 \\times 3 $ matrix filled with ones using the [`ones`](https://numpy.org/doc/stable/reference/generated/numpy.ones.html) function:"
      ]
    },
    {
      "cell_type": "code",
      "metadata": {
        "scrolled": true,
        "id": "vDCPNRFYlGg4",
        "colab": {
          "base_uri": "https://localhost:8080/"
        },
        "outputId": "19bbde41-e567-4f53-8e8e-fa3bc8ee9888"
      },
      "source": [
        "O = np.ones((3, 3))\n",
        "print(O)"
      ],
      "execution_count": 37,
      "outputs": [
        {
          "output_type": "stream",
          "name": "stdout",
          "text": [
            "[[1. 1. 1.]\n",
            " [1. 1. 1.]\n",
            " [1. 1. 1.]]\n"
          ]
        }
      ]
    },
    {
      "cell_type": "markdown",
      "metadata": {
        "id": "s0KqBfbGlGg4"
      },
      "source": [
        "create a $ 3 \\times 3 $ matrix filled with random floating point numbers between $ 0 $ and $ 1 $ using the [`rand`](https://numpy.org/doc/stable/reference/random/generated/numpy.random.rand.html) function:"
      ]
    },
    {
      "cell_type": "code",
      "metadata": {
        "id": "Wx1xi9NblGg4",
        "colab": {
          "base_uri": "https://localhost:8080/"
        },
        "outputId": "9b00d43e-4999-4235-9a15-84d0fbdd45d7"
      },
      "source": [
        "R = np.random.rand(3, 3)\n",
        "print(R)"
      ],
      "execution_count": 38,
      "outputs": [
        {
          "output_type": "stream",
          "name": "stdout",
          "text": [
            "[[0.93234137 0.58430857 0.23581969]\n",
            " [0.01418615 0.49358136 0.20395742]\n",
            " [0.53889042 0.54045922 0.07020735]]\n"
          ]
        }
      ]
    },
    {
      "cell_type": "markdown",
      "metadata": {
        "id": "DKpWxX9dlGg5"
      },
      "source": [
        "create a $ 3 \\times 3 $ matrix with the vector $ (1, 2, 3) $ on the diagonal using the [`diag`](https://numpy.org/doc/stable/reference/generated/numpy.diag.html) function:"
      ]
    },
    {
      "cell_type": "code",
      "metadata": {
        "scrolled": false,
        "id": "gnxXwVVTlGg5",
        "colab": {
          "base_uri": "https://localhost:8080/"
        },
        "outputId": "a4ce5513-5c8d-4479-dfe3-ad3fdc34838b"
      },
      "source": [
        "print(np.diag([1,2,3,4,5], 0))\n",
        "print('dad')\n",
        "print(np.diag([1,2,3,4,5], 1))\n",
        "print('dad')\n",
        "print(np.diag([1,2,3,4,5], -2))"
      ],
      "execution_count": 39,
      "outputs": [
        {
          "output_type": "stream",
          "name": "stdout",
          "text": [
            "[[1 0 0 0 0]\n",
            " [0 2 0 0 0]\n",
            " [0 0 3 0 0]\n",
            " [0 0 0 4 0]\n",
            " [0 0 0 0 5]]\n",
            "dad\n",
            "[[0 1 0 0 0 0]\n",
            " [0 0 2 0 0 0]\n",
            " [0 0 0 3 0 0]\n",
            " [0 0 0 0 4 0]\n",
            " [0 0 0 0 0 5]\n",
            " [0 0 0 0 0 0]]\n",
            "dad\n",
            "[[0 0 0 0 0 0 0]\n",
            " [0 0 0 0 0 0 0]\n",
            " [1 0 0 0 0 0 0]\n",
            " [0 2 0 0 0 0 0]\n",
            " [0 0 3 0 0 0 0]\n",
            " [0 0 0 4 0 0 0]\n",
            " [0 0 0 0 5 0 0]]\n"
          ]
        }
      ]
    },
    {
      "cell_type": "markdown",
      "metadata": {
        "id": "-D39uiZulGg5"
      },
      "source": [
        "extract the main diagonal, and the diagonals above and below the main diagonal from matrix $ \\mathbb{M} $ using the [`diag`](https://numpy.org/doc/stable/reference/generated/numpy.diag.html) function:"
      ]
    },
    {
      "cell_type": "code",
      "metadata": {
        "id": "SAUG6DgZlGg5",
        "colab": {
          "base_uri": "https://localhost:8080/"
        },
        "outputId": "8fe3f150-cdb6-4cb6-a4d8-20614a0fddb9"
      },
      "source": [
        "print(np.diag(M, 0), np.diag(M, 1), np.diag(M, -1))"
      ],
      "execution_count": 40,
      "outputs": [
        {
          "output_type": "stream",
          "name": "stdout",
          "text": [
            "[1 5 9] [2 6] [4 8]\n"
          ]
        }
      ]
    },
    {
      "cell_type": "markdown",
      "metadata": {
        "id": "l8FN6ooMlGg5"
      },
      "source": [
        "set all elements of matrix $ \\mathbb{M} $ below and above diagonal to zero using the [`triu`](https://numpy.org/doc/stable/reference/generated/numpy.triu.html) and [`tril`](https://numpy.org/doc/stable/reference/generated/numpy.tril.html) functions:"
      ]
    },
    {
      "cell_type": "code",
      "metadata": {
        "id": "dq-mKo1flGg5",
        "colab": {
          "base_uri": "https://localhost:8080/"
        },
        "outputId": "71b8dfdb-054f-4129-dd5d-39a97332446a"
      },
      "source": [
        "print(np.triu(M))\n",
        "print(np.tril(M))"
      ],
      "execution_count": 41,
      "outputs": [
        {
          "output_type": "stream",
          "name": "stdout",
          "text": [
            "[[1 2 3]\n",
            " [0 5 6]\n",
            " [0 0 9]]\n",
            "[[1 0 0]\n",
            " [4 5 0]\n",
            " [7 8 9]]\n"
          ]
        }
      ]
    },
    {
      "cell_type": "markdown",
      "metadata": {
        "id": "1DK1K5USlGg6"
      },
      "source": [
        "print minimum and maximum elements, index of minimum and maximum elements, and the sum of vector $ v $ using the [`min`](https://numpy.org/doc/stable/reference/generated/numpy.ndarray.min.html), [`max`](https://numpy.org/doc/stable/reference/generated/numpy.ndarray.max.html), [`argmin`](https://numpy.org/doc/stable/reference/generated/numpy.argmin.html), [`argmax`](https://numpy.org/doc/stable/reference/generated/numpy.argmax.html), and [`sum`](https://numpy.org/doc/stable/reference/generated/numpy.sum.html) functions:"
      ]
    },
    {
      "cell_type": "code",
      "metadata": {
        "id": "4NNt1RkclGg6",
        "colab": {
          "base_uri": "https://localhost:8080/"
        },
        "outputId": "396b3d32-274c-449f-c129-aa1cd2de46de"
      },
      "source": [
        "print(np.min(v), np.max(v), np.argmin(v), np.argmax(v), np.sum(v))"
      ],
      "execution_count": 42,
      "outputs": [
        {
          "output_type": "stream",
          "name": "stdout",
          "text": [
            "1 9 0 8 45\n"
          ]
        }
      ]
    },
    {
      "cell_type": "markdown",
      "metadata": {
        "id": "Zi-Ea5S9lGg6"
      },
      "source": [
        "print even numbers of vector $ v $ and their indices using the [`where`](https://numpy.org/doc/stable/reference/generated/numpy.where.html), and [`mod`](https://numpy.org/doc/stable/reference/generated/numpy.mod.html) functions:"
      ]
    },
    {
      "cell_type": "code",
      "metadata": {
        "scrolled": false,
        "id": "FTBBXIUtlGg6",
        "colab": {
          "base_uri": "https://localhost:8080/"
        },
        "outputId": "bc954d9f-1f4d-40b7-808c-e1c8270c2a30"
      },
      "source": [
        "print(v)\n",
        "even = np.where(np.mod(v, 2) == 0)\n",
        "print(v[even])"
      ],
      "execution_count": 43,
      "outputs": [
        {
          "output_type": "stream",
          "name": "stdout",
          "text": [
            "[1 2 3 4 5 6 7 8 9]\n",
            "[2 4 6 8]\n"
          ]
        }
      ]
    },
    {
      "cell_type": "markdown",
      "metadata": {
        "id": "IhwdXa9jlGg7"
      },
      "source": [
        "assign vector $ v $ to vector $ v_2 $ using the `=` operator (note that if you modify one in place, you'll see the change through the other one too):"
      ]
    },
    {
      "cell_type": "code",
      "metadata": {
        "scrolled": true,
        "id": "PpVCeHE7lGg7",
        "colab": {
          "base_uri": "https://localhost:8080/"
        },
        "outputId": "f033ac08-b2c1-41bc-88d4-d2a90bf5e106"
      },
      "source": [
        "print(v)\n",
        "v2 = v\n",
        "v2[0] = -1\n",
        "print(v)\n",
        "print(v2)"
      ],
      "execution_count": 44,
      "outputs": [
        {
          "output_type": "stream",
          "name": "stdout",
          "text": [
            "[1 2 3 4 5 6 7 8 9]\n",
            "[-1  2  3  4  5  6  7  8  9]\n",
            "[-1  2  3  4  5  6  7  8  9]\n"
          ]
        }
      ]
    },
    {
      "cell_type": "markdown",
      "metadata": {
        "id": "ofDeyf2zlGg7"
      },
      "source": [
        "copy the vector $ v $ to vector $ v_3 $ using the [`copy`](https://numpy.org/doc/stable/reference/generated/numpy.copy.html) function:"
      ]
    },
    {
      "cell_type": "code",
      "metadata": {
        "id": "vqe7fNbHlGg7",
        "colab": {
          "base_uri": "https://localhost:8080/"
        },
        "outputId": "aff08d0b-cb7e-4712-aa0e-d803f49c3b58"
      },
      "source": [
        "v3 = np.copy(v)\n",
        "v3[0] = -2\n",
        "print(v)\n",
        "print(v3)"
      ],
      "execution_count": 45,
      "outputs": [
        {
          "output_type": "stream",
          "name": "stdout",
          "text": [
            "[-1  2  3  4  5  6  7  8  9]\n",
            "[-2  2  3  4  5  6  7  8  9]\n"
          ]
        }
      ]
    },
    {
      "cell_type": "markdown",
      "metadata": {
        "id": "7yODC90WlGg7"
      },
      "source": [
        "create vector $ v_4 $ by appending $ 0 $ to the end of vector $ v $ using the [`append`](https://numpy.org/doc/stable/reference/generated/numpy.append.html) function:"
      ]
    },
    {
      "cell_type": "code",
      "metadata": {
        "id": "j1f9Ke0slGg8",
        "colab": {
          "base_uri": "https://localhost:8080/"
        },
        "outputId": "a12378fb-3e1f-4560-8a01-69d1bce33570"
      },
      "source": [
        "v4 = np.append(v, 0)\n",
        "print(v)\n",
        "print(v4)"
      ],
      "execution_count": 46,
      "outputs": [
        {
          "output_type": "stream",
          "name": "stdout",
          "text": [
            "[-1  2  3  4  5  6  7  8  9]\n",
            "[-1  2  3  4  5  6  7  8  9  0]\n"
          ]
        }
      ]
    },
    {
      "cell_type": "markdown",
      "metadata": {
        "id": "Ss4mGoGKlGg8"
      },
      "source": [
        "create vector $ v_5 $ by inserting $ -5 $ as a sixth element to vector $ v $ using the [`insert`](https://numpy.org/doc/stable/reference/generated/numpy.insert.html) function:"
      ]
    },
    {
      "cell_type": "code",
      "metadata": {
        "scrolled": false,
        "id": "Uti2pbF0lGg8",
        "colab": {
          "base_uri": "https://localhost:8080/"
        },
        "outputId": "c9e402d9-6181-4061-b3ec-4566206566ce"
      },
      "source": [
        "v[5] = -123\n",
        "print(v)\n",
        "v5 = np.insert(v, 5, -5)\n",
        "print(v5)"
      ],
      "execution_count": 47,
      "outputs": [
        {
          "output_type": "stream",
          "name": "stdout",
          "text": [
            "[  -1    2    3    4    5 -123    7    8    9]\n",
            "[  -1    2    3    4    5   -5 -123    7    8    9]\n"
          ]
        }
      ]
    },
    {
      "cell_type": "markdown",
      "metadata": {
        "id": "7QhfVVjAlGg8"
      },
      "source": [
        "create vector $ v_6 $ by concatenating vectors $ v_4 $ and $ v_5 $ using the [`concatenate`](https://numpy.org/doc/stable/reference/generated/numpy.concatenate.html) function:"
      ]
    },
    {
      "cell_type": "code",
      "metadata": {
        "id": "SemlWfOplGg8",
        "colab": {
          "base_uri": "https://localhost:8080/"
        },
        "outputId": "401f398d-15a9-4d3c-a61a-2fa15f33b3f9"
      },
      "source": [
        "v6 = np.concatenate((v4, v5))\n",
        "print(v6)"
      ],
      "execution_count": 48,
      "outputs": [
        {
          "output_type": "stream",
          "name": "stdout",
          "text": [
            "[  -1    2    3    4    5    6    7    8    9    0   -1    2    3    4\n",
            "    5   -5 -123    7    8    9]\n"
          ]
        }
      ]
    },
    {
      "cell_type": "markdown",
      "metadata": {
        "id": "XcIfcSo4lGg9"
      },
      "source": [
        "create polynomial $ p = x^3 + 2x^2 + 3x + 2 $ using the [`poly1d`](https://numpy.org/doc/stable/reference/generated/numpy.poly1d.html) function:"
      ]
    },
    {
      "cell_type": "code",
      "metadata": {
        "scrolled": true,
        "id": "PG45AX6VlGg9",
        "colab": {
          "base_uri": "https://localhost:8080/"
        },
        "outputId": "80f4efe7-f987-47ef-8344-31da5aaa9286"
      },
      "source": [
        "p = np.poly1d([1, 2, 3, 2])\n",
        "print(p)"
      ],
      "execution_count": 49,
      "outputs": [
        {
          "output_type": "stream",
          "name": "stdout",
          "text": [
            "   3     2\n",
            "1 x + 2 x + 3 x + 2\n"
          ]
        }
      ]
    },
    {
      "cell_type": "markdown",
      "metadata": {
        "id": "sOj38Y9TlGg9"
      },
      "source": [
        "Further reading: https://numpy.org/doc/stable/reference/"
      ]
    },
    {
      "cell_type": "markdown",
      "metadata": {
        "id": "HZiWgUu2lGg9"
      },
      "source": [
        "### Scipy"
      ]
    },
    {
      "cell_type": "markdown",
      "metadata": {
        "id": "7N4mPtFPlGg9"
      },
      "source": [
        "<img src=\"https://staff.utia.cas.cz/novozada/ml1/scipy.png\"> <br />\n",
        "\n",
        "import scientific constants from the [`scipy`](https://www.scipy.org/) module and print $ \\pi $, golden_ratio, and speed of light in vacuum:"
      ]
    },
    {
      "cell_type": "code",
      "metadata": {
        "id": "Fg3g4unHlGg9",
        "colab": {
          "base_uri": "https://localhost:8080/"
        },
        "outputId": "00b59a7f-9954-4f22-9543-fc5844f91906"
      },
      "source": [
        "from scipy.constants import pi, golden_ratio, c\n",
        "print(pi, golden_ratio, c)"
      ],
      "execution_count": 50,
      "outputs": [
        {
          "output_type": "stream",
          "name": "stdout",
          "text": [
            "3.141592653589793 1.618033988749895 299792458.0\n"
          ]
        }
      ]
    },
    {
      "cell_type": "markdown",
      "metadata": {
        "id": "EZ3qjH7MlGg-"
      },
      "source": [
        "import various submodules from [`scipy`](https://www.scipy.org/) that will be useful throughout the course: "
      ]
    },
    {
      "cell_type": "code",
      "metadata": {
        "id": "RIKsrCp7lGg-"
      },
      "source": [
        "import scipy.linalg # linear algebra\n",
        "import scipy.interpolate # interpolation and curve fitting\n",
        "import scipy.optimize # minima, maxima, root finding\n",
        "import scipy.integrate # numerical integration and solving of ODEs"
      ],
      "execution_count": 51,
      "outputs": []
    },
    {
      "cell_type": "markdown",
      "metadata": {
        "id": "MOroMTfZlGg-"
      },
      "source": [
        "Further reading: https://docs.scipy.org/doc/scipy/reference/"
      ]
    },
    {
      "cell_type": "markdown",
      "metadata": {
        "id": "Cz9AKYehlGg-"
      },
      "source": [
        "### Matplotlib"
      ]
    },
    {
      "cell_type": "markdown",
      "metadata": {
        "id": "JaBaUQg3lGg-"
      },
      "source": [
        "<img src=\"https://staff.utia.cas.cz/novozada/ml1/matplotlib.png\"> <br />\n",
        "\n",
        "\n",
        "import [`pyplot`](https://matplotlib.org/stable/api/_as_gen/matplotlib.pyplot.html) submodule from [`matplotlib`](https://matplotlib.org/) and bind the import to the local variable `plt`:"
      ]
    },
    {
      "cell_type": "code",
      "metadata": {
        "id": "Lg1OkCxmlGg-"
      },
      "source": [
        "import matplotlib.pyplot as plt"
      ],
      "execution_count": 52,
      "outputs": []
    },
    {
      "cell_type": "markdown",
      "metadata": {
        "id": "nILyiZWtlGg_"
      },
      "source": [
        "plot $ \\sin{(x)} $ and $ \\cos{(x)} $ functions for $ x \\in [0, 10] $ using the [`plot`](https://matplotlib.org/stable/api/_as_gen/matplotlib.pyplot.plot.html) function:"
      ]
    },
    {
      "cell_type": "code",
      "metadata": {
        "id": "PUNWdqmdlGg_",
        "colab": {
          "base_uri": "https://localhost:8080/",
          "height": 265
        },
        "outputId": "ac872ae7-7744-40b0-ce00-1d5eba9bdae2"
      },
      "source": [
        "x = np.linspace(0, 10, 100)\n",
        "fig, ax = plt.subplots()\n",
        "ax.plot(x, np.sin(x))\n",
        "ax.plot(x, np.cos(x))\n",
        "plt.show()"
      ],
      "execution_count": 53,
      "outputs": [
        {
          "output_type": "display_data",
          "data": {
            "text/plain": [
              "<Figure size 432x288 with 1 Axes>"
            ],
            "image/png": "[encoded data removed]"
          },
          "metadata": {
            "needs_background": "light"
          }
        }
      ]
    },
    {
      "cell_type": "markdown",
      "metadata": {
        "id": "v8DnDItmlGhA"
      },
      "source": [
        "plot the functions $ y(x) = x $ and $ y(x) = x^2 $ for $ x \\in [0, 10] $ and show the plots next to each other:"
      ]
    },
    {
      "cell_type": "code",
      "metadata": {
        "scrolled": true,
        "id": "e5IJ6PzzlGhA",
        "colab": {
          "base_uri": "https://localhost:8080/",
          "height": 297
        },
        "outputId": "d038ff71-6c00-4670-b2da-73585c511b55"
      },
      "source": [
        "fig, ax = plt.subplots(nrows=1, ncols=2)\n",
        "\n",
        "ax[0].plot(x, x, color=\"green\")\n",
        "ax[0].set_xlabel(\"x\")\n",
        "ax[0].set_ylabel(\"y\")\n",
        "\n",
        "ax[1].plot(x, x**2, color=\"blue\")\n",
        "ax[1].set_xlabel(\"x\")\n",
        "ax[1].set_ylabel(\"y\")\n",
        "    \n",
        "fig.tight_layout()\n",
        "plt.show()"
      ],
      "execution_count": 54,
      "outputs": [
        {
          "output_type": "display_data",
          "data": {
            "text/plain": [
              "<Figure size 432x288 with 2 Axes>"
            ],
            "image/png": "[encoded data removed]"
          },
          "metadata": {
            "needs_background": "light"
          }
        }
      ]
    },
    {
      "cell_type": "markdown",
      "metadata": {
        "id": "LcIRIas6lGhB"
      },
      "source": [
        "save the figure above as \"figure.png\":"
      ]
    },
    {
      "cell_type": "code",
      "metadata": {
        "id": "KbINFANSlGhB"
      },
      "source": [
        "fig.savefig(\"figure.png\", dpi=100)"
      ],
      "execution_count": 55,
      "outputs": []
    },
    {
      "cell_type": "markdown",
      "metadata": {
        "id": "xm77m7SnlGhB"
      },
      "source": [
        "create a 2D plot of Gaussian function, $ f(x, y) = \\exp{(-ax^2 - by^2)} $, for $ x, y \\in [-2, 2] $ using the [`pcolormesh`](https://matplotlib.org/stable/api/_as_gen/matplotlib.pyplot.pcolormesh.html) function:"
      ]
    },
    {
      "cell_type": "code",
      "metadata": {
        "scrolled": true,
        "id": "tZRMgvoolGhB",
        "colab": {
          "base_uri": "https://localhost:8080/",
          "height": 295
        },
        "outputId": "3cac9218-bae1-4ff9-a150-8e388e1b7e10"
      },
      "source": [
        "a = 1 #@param {type:\"slider\", min:0, max:5, step:0.1}\n",
        "b = 3 #@param {type:\"slider\", min:0, max:5, step:0.1}\n",
        "\n",
        "x = np.linspace(-2, 2, 100)\n",
        "y = np.linspace(-2, 2, 100)\n",
        "xx, yy = np.meshgrid(x, y)\n",
        "function = np.exp(-a*xx**2 - b*yy**2)\n",
        "\n",
        "fig, ax = plt.subplots()\n",
        "img = ax.pcolormesh(x, y, function, cmap=\"jet\", shading=\"gouraud\")\n",
        "ax.set_title(\"2D plot of Gaussian function\")\n",
        "ax.set_xlabel(\"x\")\n",
        "ax.set_ylabel(\"y\")\n",
        "\n",
        "cbar = plt.colorbar(img)\n",
        "cbar.set_label(label=r\"$ exp(-ax^2 - by^2) $\", fontsize=12)\n",
        "\n",
        "plt.show()"
      ],
      "execution_count": 66,
      "outputs": [
        {
          "output_type": "display_data",
          "data": {
            "text/plain": [
              "<Figure size 432x288 with 2 Axes>"
            ],
            "image/png": "[encoded data removed]"
          },
          "metadata": {
            "needs_background": "light"
          }
        }
      ]
    },
    {
      "cell_type": "markdown",
      "metadata": {
        "collapsed": true,
        "id": "UcivmkNylGhC"
      },
      "source": [
        "Further reading: https://matplotlib.org/"
      ]
    },
    {
      "cell_type": "markdown",
      "metadata": {
        "id": "Lj3F_lOp8NG_"
      },
      "source": [
        "### Pandas"
      ]
    },
    {
      "cell_type": "markdown",
      "metadata": {
        "id": "OTgP50S5B0HZ"
      },
      "source": [
        "<img src=\"https://staff.utia.cas.cz/novozada/ml1/pandas2.png\">"
      ]
    },
    {
      "cell_type": "code",
      "metadata": {
        "id": "seEz5O-d8MdR",
        "colab": {
          "base_uri": "https://localhost:8080/",
          "height": 175
        },
        "outputId": "ccf921b6-a5d5-4391-97b6-75f328958afe"
      },
      "source": [
        "import pandas as pd\n",
        "data = {\n",
        "    'apples': [3, 2, 0, 1], \n",
        "    'oranges': [0, 3, 7, 2]\n",
        "}\n",
        "purchases = pd.DataFrame(data)\n",
        "purchases = pd.DataFrame(data, index=['June', 'Robert', 'Lily', 'David'])\n",
        "\n",
        "purchases"
      ],
      "execution_count": 57,
      "outputs": [
        {
          "output_type": "execute_result",
          "data": {
            "text/plain": [
              "        apples  oranges\n",
              "June         3        0\n",
              "Robert       2        3\n",
              "Lily         0        7\n",
              "David        1        2"
            ],
            "text/html": [
              "\n",
              "  <div id=\"df-a6123c6e-6ab0-4e82-9736-a62f85dcff78\">\n",
              "    <div class=\"colab-df-container\">\n",
              "      <div>\n",
              "<style scoped>\n",
              "    .dataframe tbody tr th:only-of-type {\n",
              "        vertical-align: middle;\n",
              "    }\n",
              "\n",
              "    .dataframe tbody tr th {\n",
              "        vertical-align: top;\n",
              "    }\n",
              "\n",
              "    .dataframe thead th {\n",
              "        text-align: right;\n",
              "    }\n",
              "</style>\n",
              "<table border=\"1\" class=\"dataframe\">\n",
              "  <thead>\n",
              "    <tr style=\"text-align: right;\">\n",
              "      <th></th>\n",
              "      <th>apples</th>\n",
              "      <th>oranges</th>\n",
              "    </tr>\n",
              "  </thead>\n",
              "  <tbody>\n",
              "    <tr>\n",
              "      <th>June</th>\n",
              "      <td>3</td>\n",
              "      <td>0</td>\n",
              "    </tr>\n",
              "    <tr>\n",
              "      <th>Robert</th>\n",
              "      <td>2</td>\n",
              "      <td>3</td>\n",
              "    </tr>\n",
              "    <tr>\n",
              "      <th>Lily</th>\n",
              "      <td>0</td>\n",
              "      <td>7</td>\n",
              "    </tr>\n",
              "    <tr>\n",
              "      <th>David</th>\n",
              "      <td>1</td>\n",
              "      <td>2</td>\n",
              "    </tr>\n",
              "  </tbody>\n",
              "</table>\n",
              "</div>\n",
              "      <button class=\"colab-df-convert\" onclick=\"convertToInteractive('df-a6123c6e-6ab0-4e82-9736-a62f85dcff78')\"\n",
              "              title=\"Convert this dataframe to an interactive table.\"\n",
              "              style=\"display:none;\">\n",
              "        \n",
              "  <svg xmlns=\"http://www.w3.org/2000/svg\" height=\"24px\"viewBox=\"0 0 24 24\"\n",
              "       width=\"24px\">\n",
              "    <path d=\"M0 0h24v24H0V0z\" fill=\"none\"/>\n",
              "    <path d=\"M18.56 5.44l.94 2.06.94-2.06 2.06-.94-2.06-.94-.94-2.06-.94 2.06-2.06.94zm-11 1L8.5 8.5l.94-2.06 2.06-.94-2.06-.94L8.5 2.5l-.94 2.06-2.06.94zm10 10l.94 2.06.94-2.06 2.06-.94-2.06-.94-.94-2.06-.94 2.06-2.06.94z\"/><path d=\"M17.41 7.96l-1.37-1.37c-.4-.4-.92-.59-1.43-.59-.52 0-1.04.2-1.43.59L10.3 9.45l-7.72 7.72c-.78.78-.78 2.05 0 2.83L4 21.41c.39.39.9.59 1.41.59.51 0 1.02-.2 1.41-.59l7.78-7.78 2.81-2.81c.8-.78.8-2.07 0-2.86zM5.41 20L4 18.59l7.72-7.72 1.47 1.35L5.41 20z\"/>\n",
              "  </svg>\n",
              "      </button>\n",
              "      \n",
              "  <style>\n",
              "    .colab-df-container {\n",
              "      display:flex;\n",
              "      flex-wrap:wrap;\n",
              "      gap: 12px;\n",
              "    }\n",
              "\n",
              "    .colab-df-convert {\n",
              "      background-color: #E8F0FE;\n",
              "      border: none;\n",
              "      border-radius: 50%;\n",
              "      cursor: pointer;\n",
              "      display: none;\n",
              "      fill: #1967D2;\n",
              "      height: 32px;\n",
              "      padding: 0 0 0 0;\n",
              "      width: 32px;\n",
              "    }\n",
              "\n",
              "    .colab-df-convert:hover {\n",
              "      background-color: #E2EBFA;\n",
              "      box-shadow: 0px 1px 2px rgba(60, 64, 67, 0.3), 0px 1px 3px 1px rgba(60, 64, 67, 0.15);\n",
              "      fill: #174EA6;\n",
              "    }\n",
              "\n",
              "    [theme=dark] .colab-df-convert {\n",
              "      background-color: #3B4455;\n",
              "      fill: #D2E3FC;\n",
              "    }\n",
              "\n",
              "    [theme=dark] .colab-df-convert:hover {\n",
              "      background-color: #434B5C;\n",
              "      box-shadow: 0px 1px 3px 1px rgba(0, 0, 0, 0.15);\n",
              "      filter: drop-shadow(0px 1px 2px rgba(0, 0, 0, 0.3));\n",
              "      fill: #FFFFFF;\n",
              "    }\n",
              "  </style>\n",
              "\n",
              "      <script>\n",
              "        const buttonEl =\n",
              "          document.querySelector('#df-a6123c6e-6ab0-4e82-9736-a62f85dcff78 button.colab-df-convert');\n",
              "        buttonEl.style.display =\n",
              "          google.colab.kernel.accessAllowed ? 'block' : 'none';\n",
              "\n",
              "        async function convertToInteractive(key) {\n",
              "          const element = document.querySelector('#df-a6123c6e-6ab0-4e82-9736-a62f85dcff78');\n",
              "          const dataTable =\n",
              "            await google.colab.kernel.invokeFunction('convertToInteractive',\n",
              "                                                     [key], {});\n",
              "          if (!dataTable) return;\n",
              "\n",
              "          const docLinkHtml = 'Like what you see? Visit the ' +\n",
              "            '<a target=\"_blank\" href=https://colab.research.google.com/notebooks/data_table.ipynb>data table notebook</a>'\n",
              "            + ' to learn more about interactive tables.';\n",
              "          element.innerHTML = '';\n",
              "          dataTable['output_type'] = 'display_data';\n",
              "          await google.colab.output.renderOutput(dataTable, element);\n",
              "          const docLink = document.createElement('div');\n",
              "          docLink.innerHTML = docLinkHtml;\n",
              "          element.appendChild(docLink);\n",
              "        }\n",
              "      </script>\n",
              "    </div>\n",
              "  </div>\n",
              "  "
            ]
          },
          "metadata": {},
          "execution_count": 57
        }
      ]
    },
    {
      "cell_type": "code",
      "metadata": {
        "id": "DcbNO0cTEvM8",
        "colab": {
          "base_uri": "https://localhost:8080/"
        },
        "outputId": "7a394d90-ba86-47b1-e7ae-c05dfffa79dc"
      },
      "source": [
        "purchases.loc['June']"
      ],
      "execution_count": 67,
      "outputs": [
        {
          "output_type": "execute_result",
          "data": {
            "text/plain": [
              "apples     3\n",
              "oranges    0\n",
              "Name: June, dtype: int64"
            ]
          },
          "metadata": {},
          "execution_count": 67
        }
      ]
    },
    {
      "cell_type": "markdown",
      "metadata": {
        "id": "RPgpbtCAE-oH"
      },
      "source": [
        "Further reading: [Pandas cheat sheet](https://pandas.pydata.org/Pandas_Cheat_Sheet.pdf)"
      ]
    },
    {
      "cell_type": "markdown",
      "metadata": {
        "id": "22Apuzh68Qw0"
      },
      "source": [
        "### Scikit-learn"
      ]
    },
    {
      "cell_type": "markdown",
      "metadata": {
        "id": "w7l1LUsJ8Vpv"
      },
      "source": [
        "<img src=\"https://staff.utia.cas.cz/novozada/ml1/scikit.png\">\n",
        "\n",
        "[Scikit-learn](https://scikit-learn.org/stable/index.html) (also known as sklearn) is a free software machine learning library for Python. We will jump into it in the next Part."
      ]
    },
    {
      "cell_type": "markdown",
      "metadata": {
        "id": "2Df0HJky7GLS"
      },
      "source": [
        "# Part 5: Machine Learning"
      ]
    },
    {
      "cell_type": "markdown",
      "metadata": {
        "id": "8DuaTN-x6wHn"
      },
      "source": [
        "<img src=\"https://staff.utia.cas.cz/novozada/ml1/ml_overview.png\">\n",
        "\n",
        "## Machine Learning applications\n",
        "\n",
        "<img src=\"https://staff.utia.cas.cz/novozada/ml1/ml_apl.png\">\n",
        "\n",
        "\n",
        "\n"
      ]
    },
    {
      "cell_type": "markdown",
      "metadata": {
        "id": "WH1ImfcsdsMm"
      },
      "source": [
        "## Regression\n",
        "is about fitting a shape that gets as close to the data as possible.\n",
        "\n",
        "![](https://staff.utia.cas.cz/novozada/ml1/regression.png)"
      ]
    },
    {
      "cell_type": "markdown",
      "metadata": {
        "id": "xm4Y9U10SyAs"
      },
      "source": [
        "##Classification \n",
        "is about separating data into classes.\n",
        "\n",
        "![](https://staff.utia.cas.cz/novozada/ml1/classification.png)\n",
        "\n"
      ]
    },
    {
      "cell_type": "markdown",
      "metadata": {
        "id": "mTn2w5HfSnXA"
      },
      "source": [
        "## Basic steps\n",
        "<img src=\"https://staff.utia.cas.cz/novozada/ml1/ml_steps.png\">"
      ]
    },
    {
      "cell_type": "markdown",
      "metadata": {
        "id": "xXohBl3ZSz9I"
      },
      "source": [
        "## Linear regression"
      ]
    },
    {
      "cell_type": "code",
      "metadata": {
        "id": "IaV4TkB16v3D",
        "colab": {
          "base_uri": "https://localhost:8080/",
          "height": 267
        },
        "outputId": "c39637ab-6f41-4b89-b674-52d50d1dd73e"
      },
      "source": [
        "import numpy as np\n",
        "from sklearn.linear_model import LinearRegression\n",
        "import matplotlib.pyplot as plt\n",
        "from sklearn.model_selection import train_test_split\n",
        "from sklearn import datasets, metrics\n",
        "\n",
        "# 1. Prepare data \n",
        "X, y = datasets.make_regression(n_samples=100, n_features=1, noise=20, random_state=4)\n",
        "# print(X)\n",
        "# print(y)\n",
        "\n",
        "# 2. Split data \n",
        "X_train, X_test, y_train, y_test = train_test_split(X, y, test_size=0.1, random_state=1234)\n",
        "\n",
        "# 3. Design a model\n",
        "regressor = LinearRegression()\n",
        "\n",
        "# 4. Train a model\n",
        "regressor.fit(X_train, y_train)\n",
        "\n",
        "# 5. Make predictions\n",
        "predictions = regressor.predict(X_test)\n",
        "\n",
        "# 6. Evaluate predictions (visually)\n",
        "fig = plt.figure()\n",
        "m1 = plt.scatter(X_train, y_train)\n",
        "m2 = plt.scatter(X_test, y_test)\n",
        "y_pred_line = regressor.predict(X)\n",
        "plt.plot(X, y_pred_line, color=\"black\")\n",
        "plt.show()"
      ],
      "execution_count": 102,
      "outputs": [
        {
          "output_type": "display_data",
          "data": {
            "text/plain": [
              "<Figure size 432x288 with 1 Axes>"
            ],
            "image/png": "[encoded data removed]"
          },
          "metadata": {
            "needs_background": "light"
          }
        }
      ]
    },
    {
      "cell_type": "code",
      "metadata": {
        "id": "8ysuBx2HSomt",
        "colab": {
          "base_uri": "https://localhost:8080/"
        },
        "outputId": "ca57f571-f93d-4cd1-fd1e-cc7387430186"
      },
      "source": [
        "# 6. Evaluate predictions (numerically)\n",
        "mse = np.mean((y_test - predictions) ** 2) \n",
        "print(\"Mean squared error:\", mse)\n",
        "\n",
        "accu = metrics.r2_score(y_test, predictions)\n",
        "print(f\"Accuracy (r2 score): {accu*100:.2f} %\")"
      ],
      "execution_count": 103,
      "outputs": [
        {
          "output_type": "stream",
          "name": "stdout",
          "text": [
            "Mean squared error: 329.80168464747237\n",
            "Accuracy (r2 score): 94.86 %\n"
          ]
        }
      ]
    },
    {
      "cell_type": "markdown",
      "metadata": {
        "id": "t5ldGF2N3Ux0"
      },
      "source": [
        "### Linear regression - our implementation\n",
        "\n",
        "**Approximation**\n",
        "$$\n",
        "\\begin{aligned}\n",
        "\\hat{y}= w \\cdot x + b\n",
        "\\end{aligned}\n",
        "$$\n",
        "<br />\n",
        "**Cost function - Mean squared error (MSE)**\n",
        "$$\n",
        "\\begin{aligned}\n",
        "MSE = J(w, b)= \\frac{1}{N} \\sum_{i=1}^N (y_i - (w \\cdot x_i + b))^2\n",
        "\\end{aligned}\n",
        "$$\n",
        "<br />\n",
        "$$\n",
        "\\begin{aligned}\n",
        "\\begin{pmatrix}\\frac{\\partial J_i}{dw} \\\\ \\frac{\\partial J_i}{db} \\end{pmatrix}\n",
        "&=\n",
        "\\begin{pmatrix}\\frac{1}{N} \\sum_{} -2 \\cdot x_i(y_i-(w \\cdot x_i + b)) \\\\\n",
        "\\frac{1}{N} \\sum_{} -2 \\cdot (y_i-(w \\cdot x_i + b)) \\end{pmatrix} \n",
        "\\end{aligned}\n",
        "$$\n",
        "**Gradient Descent**"
      ]
    },
    {
      "cell_type": "markdown",
      "metadata": {
        "id": "GO--o5a4Fp-4"
      },
      "source": [
        "<img src=\"https://staff.utia.cas.cz/novozada/ml1/gradient_descent.png\">"
      ]
    },
    {
      "cell_type": "markdown",
      "metadata": {
        "id": "_vw9sJv3AJVm"
      },
      "source": [
        "**Update Rules**\n",
        "$$\n",
        "\\begin{aligned}\n",
        "\\tilde{w} = w-\\alpha \\cdot dw \\\\\n",
        "\\tilde{b} = b-\\alpha \\cdot db\n",
        "\\end{aligned}\n",
        "$$\n",
        "<br />\n",
        "$$\n",
        "\\begin{aligned}\n",
        "dw =\n",
        "\\frac{1}{N} \\sum_{i=1}^N -2 \\cdot x_i \\cdot (y_i - (w \\cdot x_i + b)) = \n",
        "\\frac{1}{N} \\sum_{i=1}^N -2 \\cdot x_i \\cdot (y_i - \\hat{y_i}) = \n",
        "\\frac{1}{N} \\sum_{i=1}^N 2 \\cdot x_i \\cdot (\\hat{y_i} - y_i)\n",
        "\\\\\n",
        "db =\n",
        "\\frac{1}{N} \\sum_{i=1}^N -2 \\cdot (y_i-(w \\cdot x_i + b)) =\n",
        "\\frac{1}{N} \\sum_{i=1}^N -2 \\cdot (y_i - \\hat{y_i}) =\n",
        "\\frac{1}{N} \\sum_{i=1}^N 2 \\cdot (\\hat{y_i} - y_i)  \n",
        "\\end{aligned}\n",
        "$$\n",
        "<br />"
      ]
    },
    {
      "cell_type": "markdown",
      "metadata": {
        "id": "rF9O3Z_2Ffj3"
      },
      "source": [
        "<img src=\"https://staff.utia.cas.cz/novozada/ml1/learning_rate.png\">"
      ]
    },
    {
      "cell_type": "code",
      "metadata": {
        "colab": {
          "base_uri": "https://localhost:8080/",
          "height": 300
        },
        "id": "lOrQOKraGNgk",
        "outputId": "77ffa59e-3dbd-42c0-e020-4d1a2d17f87c"
      },
      "source": [
        "import numpy as np\n",
        "import matplotlib.pyplot as plt\n",
        "from sklearn.model_selection import train_test_split\n",
        "from sklearn import datasets, metrics\n",
        "\n",
        "\n",
        "class OurLinearRegression:\n",
        "    def __init__(self, learning_rate=0.001, n_iters=1000):\n",
        "        self.lr = learning_rate\n",
        "        self.n_iters = n_iters\n",
        "        self.weights = None\n",
        "        self.bias = None\n",
        "\n",
        "    def fit(self, X, y):\n",
        "        n_samples, n_features = X.shape        \n",
        "\n",
        "        # init parameters\n",
        "        self.weights = np.zeros(n_features)      \n",
        "        self.bias = 0\n",
        "\n",
        "        # gradient descent\n",
        "        for _ in range(self.n_iters):\n",
        "            y_predicted = np.dot(X, self.weights) + self.bias\n",
        "            # compute gradients >> the \"2\" is only the scaling factor >> we can ommit\n",
        "            dw = (1 / n_samples) * np.dot(X.T, (y_predicted - y))\n",
        "            db = (1 / n_samples) * np.sum(y_predicted - y)\n",
        "\n",
        "            # update parameters\n",
        "            self.weights -= self.lr * dw\n",
        "            self.bias -= self.lr * db\n",
        "\n",
        "    def predict(self, X):               \n",
        "        y_approximated = np.dot(X, self.weights) + self.bias\n",
        "        return y_approximated\n",
        "\n",
        "# 1. Prepare data \n",
        "X, y = datasets.make_regression(n_samples=100, n_features=1, noise=20, random_state=4)\n",
        "\n",
        "# 2. Split data \n",
        "X_train, X_test, y_train, y_test = train_test_split(X, y, test_size=0.8, random_state=1234)\n",
        "\n",
        "# 3. Design a model\n",
        "regressor = OurLinearRegression(learning_rate=0.01, n_iters=100)\n",
        "\n",
        "# 4. Train a model\n",
        "regressor.fit(X_train, y_train)\n",
        "\n",
        "# 5. Make predictions\n",
        "predictions = regressor.predict(X_test)\n",
        "\n",
        "# 6. Evaluate predictions (visually)\n",
        "fig = plt.figure()\n",
        "m1 = plt.scatter(X_train, y_train)\n",
        "m2 = plt.scatter(X_test, y_test)\n",
        "y_pred_line = regressor.predict(X)\n",
        "plt.plot(X, y_pred_line, color=\"black\")\n",
        "plt.show()\n",
        "\n",
        "# 6. Evaluate predictions (numerically)\n",
        "mse = np.mean((y_test - predictions) ** 2) \n",
        "print(\"Mean squared error:\", mse)\n",
        "\n",
        "accu = metrics.r2_score(y_test, predictions)\n",
        "print(f\"Accuracy (r2 score): {accu*100:.2f} %\")"
      ],
      "execution_count": 106,
      "outputs": [
        {
          "output_type": "display_data",
          "data": {
            "text/plain": [
              "<Figure size 432x288 with 1 Axes>"
            ],
            "image/png": "[encoded data removed]"
          },
          "metadata": {
            "needs_background": "light"
          }
        },
        {
          "output_type": "stream",
          "name": "stdout",
          "text": [
            "Mean squared error: 1428.5613399566278\n",
            "Accuracy (r2 score): 75.13 %\n"
          ]
        }
      ]
    },
    {
      "cell_type": "markdown",
      "metadata": {
        "id": "8jII66zR5FTa"
      },
      "source": [
        "## k-nearest neighbors (KNN)\n",
        "\n",
        "### Iris Data Set\n",
        "* “Hello World of machine learning\"\n",
        "* [\"Perhaps the best known database to be found in the pattern recognition literature\"](https://archive.ics.uci.edu/ml/datasets/iris)\n",
        "\n",
        "<img src=\"https://staff.utia.cas.cz/novozada/ml1/knn.png\">"
      ]
    },
    {
      "cell_type": "code",
      "metadata": {
        "id": "AhP50Rt_YqJP"
      },
      "source": [
        "from collections import Counter\n",
        "import numpy as np\n",
        "\n",
        "def euclidean_distance(x1, x2):\n",
        "    return np.sqrt(np.sum((x1 - x2) ** 2))\n",
        "\n",
        "class KNN:\n",
        "    def __init__(self, k=3):        \n",
        "        self.k = k\n",
        "\n",
        "    def fit(self, X, y):\n",
        "        self.X_train = X\n",
        "        self.y_train = y\n",
        "\n",
        "    def predict(self, X):\n",
        "        y_pred = [self._predict(x) for x in X]        \n",
        "        return np.array(y_pred)\n",
        "\n",
        "    def _predict(self, x):\n",
        "        # Compute distances between x and all examples in the training set\n",
        "        distances = [euclidean_distance(x, x_train) for x_train in self.X_train]\n",
        "        # Sort by distance and return indices of the first k neighbors\n",
        "        k_idx = np.argsort(distances)[: self.k]\n",
        "        # Extract the labels of the k nearest neighbor training samples\n",
        "        k_neighbor_labels = [self.y_train[i] for i in k_idx]\n",
        "        # return the most common class label\n",
        "        most_common = Counter(k_neighbor_labels).most_common(1)\n",
        "        return most_common[0][0]"
      ],
      "execution_count": 115,
      "outputs": []
    },
    {
      "cell_type": "code",
      "metadata": {
        "id": "yB_BRRsWhdrx",
        "colab": {
          "base_uri": "https://localhost:8080/",
          "height": 334
        },
        "outputId": "01ce3056-c85b-42cd-9cb2-d5737a65ec23"
      },
      "source": [
        "from matplotlib.colors import ListedColormap\n",
        "from sklearn import datasets\n",
        "from sklearn.model_selection import train_test_split\n",
        "import matplotlib.pyplot as plt\n",
        "\n",
        "cmap = ListedColormap([\"#FF0000\", \"#00FF00\", \"#0000FF\"])\n",
        "\n",
        "def accuracy(y_true, y_pred):\n",
        "    accuracy = np.sum(y_true == y_pred) / len(y_true)\n",
        "    return accuracy\n",
        "\n",
        "# 1. Prepare data \n",
        "iris = datasets.load_iris()\n",
        "X, y = iris.data, iris.target\n",
        "\n",
        "# 2. Split data \n",
        "X_train, X_test, y_train, y_test = train_test_split(X, y, test_size=0.20, random_state=1234)\n",
        "\n",
        "# 3. Design a model\n",
        "k = 3\n",
        "clf = KNN(k=k)\n",
        "\n",
        "# 4. Train a model\n",
        "clf.fit(X_train, y_train)\n",
        "\n",
        "# 5. Make predictions\n",
        "predictions = clf.predict(X_test)\n",
        "\n",
        "# 6. Evaluate predictions\n",
        "print(\"KNN classification accuracy\", accuracy(y_test, predictions))\n",
        "\n",
        "plt.figure()\n",
        "plt.scatter(X[:,1],X[:,2],c=y, cmap=cmap, edgecolors='k', s=20 )\n",
        "plt.show()\n",
        "\n",
        "from sklearn.metrics import confusion_matrix\n",
        "confusion_matrix(predictions, y_test)"
      ],
      "execution_count": 119,
      "outputs": [
        {
          "output_type": "stream",
          "name": "stdout",
          "text": [
            "KNN classification accuracy 1.0\n"
          ]
        },
        {
          "output_type": "display_data",
          "data": {
            "text/plain": [
              "<Figure size 432x288 with 1 Axes>"
            ],
            "image/png": "[encoded data removed]"
          },
          "metadata": {
            "needs_background": "light"
          }
        },
        {
          "output_type": "execute_result",
          "data": {
            "text/plain": [
              "array([[ 9,  0,  0],\n",
              "       [ 0, 13,  0],\n",
              "       [ 0,  0,  8]])"
            ]
          },
          "metadata": {},
          "execution_count": 119
        }
      ]
    }
  ]
}